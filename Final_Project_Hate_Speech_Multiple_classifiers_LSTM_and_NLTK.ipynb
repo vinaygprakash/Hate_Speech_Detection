import requests
from bs4 import BeautifulSoup

def fetch_words_from_webpage(url, num_words):
    try:
        # Fetch webpage content
        response = requests.get(url)
        if response.status_code == 200:
            soup = BeautifulSoup(response.text, 'html.parser')
            # Extract text from webpage
            text = soup.get_text()
            # Split text into words
            words = text.split()
            # Return the first 'num_words' words
            return " ".join(words[:num_words])
        else:
            print("Error: Unable to fetch webpage. Status code:", response.status_code)
            return None
    except Exception as e:
        print("Error:", e)
        return None

# Example usage
def fetch_n_words(url, num_words):
    words = fetch_words_from_webpage(url, num_words)
    if words is not None:
        print("First", num_words, "text words from the webpage:")
        print(words)
        return words

# Example usage

url = input("Enter the URL of the webpage: ")
num_words = int(input("Enter the number of words to fetch: "))
sample = fetch_n_words(url, num_words)
print("Smaple words are:", sample)
